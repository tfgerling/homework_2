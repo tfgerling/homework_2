{
 "cells": [
  {
   "cell_type": "markdown",
   "metadata": {},
   "source": [
    "### Homework Week 02\n",
    "#### Loops, Functions and Classes\n",
    "1. Do this homework **in order**. \n",
    "2. Be sure to have a solid understanding of Functions before working with Classes. "
   ]
  },
  {
   "cell_type": "markdown",
   "metadata": {},
   "source": [
    "1. Iterate through `integers_list` and `print` values that are multiples of 7."
   ]
  },
  {
   "cell_type": "code",
   "execution_count": 2,
   "metadata": {},
   "outputs": [
    {
     "name": "stdout",
     "output_type": "stream",
     "text": [
      "791\n",
      "399\n",
      "210\n",
      "875\n",
      "406\n",
      "637\n",
      "245\n",
      "805\n",
      "175\n",
      "287\n",
      "917\n",
      "427\n"
     ]
    }
   ],
   "source": [
    "import random\n",
    "integers_list = [random.randint(0,1000) for i in range(50)] # a list comprehension\n",
    "\n",
    "#type what I want\n",
    "\n",
    "for i in integers_list:\n",
    "    if i%7 == 0:\n",
    "        print(i)\n",
    "\n"
   ]
  },
  {
   "cell_type": "markdown",
   "metadata": {},
   "source": [
    "2. Create `list` of 5 colors as `strings` which are all lowercase. \n",
    "Iterate through the `list` and capitalize each color. \n",
    "You should modify the `list` in place. "
   ]
  },
  {
   "cell_type": "code",
   "execution_count": 25,
   "metadata": {},
   "outputs": [
    {
     "name": "stdout",
     "output_type": "stream",
     "text": [
      "['red', 'orange', 'yellow', 'pink', 'purple']\n",
      "['Red', 'Orange', 'Yellow', 'Pink', 'Purple']\n"
     ]
    }
   ],
   "source": [
    "color_list = ['red', 'orange', 'yellow', 'pink', 'purple']\n",
    "print(color_list)\n",
    "\n",
    "for e in range(0,5):\n",
    "    color_list[e] = color_list[e].capitalize()\n",
    "\n",
    "print(color_list)"
   ]
  },
  {
   "cell_type": "markdown",
   "metadata": {},
   "source": [
    "3. Loop through the string and eliminate all the asterisks."
   ]
  },
  {
   "cell_type": "code",
   "execution_count": 26,
   "metadata": {},
   "outputs": [
    {
     "name": "stdout",
     "output_type": "stream",
     "text": [
      " My computer has gone crazy and added extra symbols.\n"
     ]
    }
   ],
   "source": [
    "asterisk = 'My *compu*ter has go*ne craz***y an*d add*ed extra *symbols.*'\n",
    "new_ast = \" \"\n",
    "for a in range(0,len(asterisk)):\n",
    "    if asterisk[a] != '*':\n",
    "        new_ast = new_ast + asterisk[a]\n",
    "        \n",
    "print(new_ast)"
   ]
  },
  {
   "cell_type": "markdown",
   "metadata": {},
   "source": [
    "4. Write a `while` loop that increments `counter` until it reaches 7."
   ]
  },
  {
   "cell_type": "code",
   "execution_count": 27,
   "metadata": {},
   "outputs": [
    {
     "name": "stdout",
     "output_type": "stream",
     "text": [
      "7\n"
     ]
    }
   ],
   "source": [
    "counter = 0\n",
    "while counter <7:\n",
    "    counter +=1\n",
    "\n",
    "print(counter)"
   ]
  },
  {
   "cell_type": "markdown",
   "metadata": {},
   "source": [
    "5. Loop over `double_trouble` and eliminate any 'mosquito'."
   ]
  },
  {
   "cell_type": "code",
   "execution_count": 36,
   "metadata": {},
   "outputs": [
    {
     "name": "stdout",
     "output_type": "stream",
     "text": [
      "['cat', 'dog', ['mouse', 'bat'], ['elephant', 'dog', 'whale', 'lion', 32], 'bird', []]\n"
     ]
    }
   ],
   "source": [
    "double_trouble = ['cat', 'dog', ['mouse','mosquito','bat','mosquito'],['elephant','dog','whale','lion',32,'mosquito'],'bird',[],'mosquito']\n",
    "\n",
    "item = 'mosquito'\n",
    "\n",
    "while item in double_trouble:\n",
    "    double_trouble.remove('mosquito')\n",
    "\n",
    "while item in double_trouble[2]:\n",
    "    double_trouble[2].remove('mosquito')\n",
    "    \n",
    "while item in double_trouble[3]:\n",
    "    double_trouble[3].remove('mosquito')\n",
    "    \n",
    "print(double_trouble)\n"
   ]
  },
  {
   "cell_type": "markdown",
   "metadata": {},
   "source": [
    "6. Loop through the dictionary of phone numbers and correct the parentheses. "
   ]
  },
  {
   "cell_type": "code",
   "execution_count": 166,
   "metadata": {},
   "outputs": [
    {
     "name": "stdout",
     "output_type": "stream",
     "text": [
      "{'Jill': '1-(555)-567-8910', 'Jen': '1-(555)-567-8910', 'Jan': '1-(555)-567-8910', 'Jane': '1-(555)-567-8910', 'Jerri': '1-(555)-567-8910'}\n"
     ]
    }
   ],
   "source": [
    "phone_numbers = {'Jill':'1-)555(-567-8910',\n",
    "                'Jen':'1-)555(-567-8910',\n",
    "                'Jan':'1-)555(-567-8910',\n",
    "                'Jane':'1-)555(-567-8910',\n",
    "                'Jerri':'1-)555(-567-8910'}\n",
    "for i in phone_numbers: \n",
    "    str_no = phone_numbers[i]\n",
    "    new_field = \"\"\n",
    "    for x in range(0,len(phone_numbers[i])):\n",
    "        if (str_no)[x] != ')': \n",
    "            if (str_no)[x] !='(':\n",
    "                new_field = new_field + str_no [x]\n",
    "            else:\n",
    "                new_field = new_field + ')'\n",
    "        elif (str_no)[x] ==')':\n",
    "                new_field = new_field + '('\n",
    "      \n",
    "    phone_numbers[i] = new_field\n",
    "    \n",
    "\n",
    "print(phone_numbers)\n"
   ]
  },
  {
   "cell_type": "markdown",
   "metadata": {},
   "source": [
    "7. Create a function that takes in two numbers.\n",
    "\n",
    "If the numbers are both even add them and `return` the result.\n",
    "\n",
    "If the numbers are odd, subtract the second number from the first and `return` the result.\n",
    "\n",
    "(Assume you'll always get integers)"
   ]
  },
  {
   "cell_type": "code",
   "execution_count": 52,
   "metadata": {},
   "outputs": [
    {
     "name": "stdout",
     "output_type": "stream",
     "text": [
      "10\n",
      "4\n",
      "first number odd, second number even\n"
     ]
    }
   ],
   "source": [
    "def ch_odd_even(x,y):\n",
    "    if (x%2) == 0:\n",
    "        if (y%2) == 0:\n",
    "            j = x+y\n",
    "            print(j)\n",
    "            return(j)\n",
    "        else:\n",
    "            print(\"first number even, second number odd\")\n",
    "    elif (x%2) != 0:\n",
    "        if (y%2) != 0:\n",
    "            j = x-y\n",
    "            print(j)\n",
    "            return(j)\n",
    "        else:\n",
    "            print(\"first number odd, second number even\")\n",
    "        \n",
    "\n",
    "ch_odd_even(6,4)\n",
    "ch_odd_even(5,1)\n",
    "ch_odd_even(5,4)"
   ]
  },
  {
   "cell_type": "markdown",
   "metadata": {},
   "source": [
    "8. Create a function that takes in a `string` and removes all non-alphanumeric characters."
   ]
  },
  {
   "cell_type": "code",
   "execution_count": 154,
   "metadata": {},
   "outputs": [
    {
     "name": "stdout",
     "output_type": "stream",
     "text": [
      "this string has %^&! some weird values02\n"
     ]
    },
    {
     "data": {
      "text/plain": [
       "'thisstringhassomeweirdvalues02'"
      ]
     },
     "execution_count": 154,
     "metadata": {},
     "output_type": "execute_result"
    }
   ],
   "source": [
    "def str_input(x):\n",
    "    new_field =\"\"\n",
    "    print(x)\n",
    "    for a in range(0,len(x)):\n",
    "        if ((x[a] >= 'a' and x[a] <= 'z') or (x[a] >= 'A' and x[a] <= 'Z') or (x[a] >= '0' and x[a] <='9')):\n",
    "            new_field = new_field + x[a]\n",
    "    return(new_field)    \n",
    "            \n",
    "                    \n",
    "            \n",
    "str_input(\"this string has %^&! some weird values02\")"
   ]
  },
  {
   "cell_type": "code",
   "execution_count": 6,
   "metadata": {},
   "outputs": [
    {
     "data": {
      "text/plain": [
       "'thisstringhassomeweirdvalues02'"
      ]
     },
     "execution_count": 6,
     "metadata": {},
     "output_type": "execute_result"
    }
   ],
   "source": [
    "character(\"this string has %^&! some weird values02\")"
   ]
  },
  {
   "cell_type": "markdown",
   "metadata": {},
   "source": [
    "9. Create a function to convert Celsius to Farenheight and print the result. \n",
    "\n",
    "Bonus(Optional): Include the degree symbol in the output."
   ]
  },
  {
   "cell_type": "code",
   "execution_count": 170,
   "metadata": {},
   "outputs": [
    {
     "data": {
      "text/plain": [
       "'122.0°'"
      ]
     },
     "execution_count": 170,
     "metadata": {},
     "output_type": "execute_result"
    }
   ],
   "source": [
    "def calc_far(x):\n",
    "    far = (x * 1.8) +32\n",
    "    deg_ret = str(far) + chr(176)\n",
    "    return(deg_ret)\n",
    "\n",
    "calc_far(50)"
   ]
  },
  {
   "cell_type": "markdown",
   "metadata": {},
   "source": [
    "10. Create a function that prints the fibonacci sequence from 0 to 25. "
   ]
  },
  {
   "cell_type": "code",
   "execution_count": 79,
   "metadata": {},
   "outputs": [
    {
     "name": "stdout",
     "output_type": "stream",
     "text": [
      "0\n",
      "1\n",
      "1\n",
      "2\n",
      "3\n",
      "5\n",
      "8\n",
      "13\n",
      "21\n",
      "34\n",
      "55\n",
      "89\n",
      "144\n",
      "233\n",
      "377\n",
      "610\n",
      "987\n",
      "1597\n",
      "2584\n",
      "4181\n",
      "6765\n",
      "10946\n",
      "17711\n",
      "28657\n",
      "46368\n",
      "75025\n"
     ]
    }
   ],
   "source": [
    "def fib_seq():\n",
    "    n1, n2 = 0,1\n",
    "    count = 1\n",
    "    print(n1)\n",
    "    print(n2)\n",
    "    while count < 25:\n",
    "        term=n1 + n2\n",
    "        n1 = n2\n",
    "        n2 = term\n",
    "        count += 1\n",
    "        print(term)\n",
    "fib_seq()"
   ]
  },
  {
   "cell_type": "markdown",
   "metadata": {},
   "source": [
    "11. Create two functions. One function that accepts args `a` and `b` and returns `a + b`. \n",
    "\n",
    "Create a second function that accepts the first function as the 3rd argument as well as a and b.\n"
   ]
  },
  {
   "cell_type": "code",
   "execution_count": 53,
   "metadata": {},
   "outputs": [
    {
     "name": "stdout",
     "output_type": "stream",
     "text": [
      "Sum of 3 and 5 is 8\n"
     ]
    }
   ],
   "source": [
    "# you do the first function\n",
    "def first_function(a,b):\n",
    "    calc_num = a + b\n",
    "    print('Sum of', a, 'and', b, 'is', calc_num)\n",
    "    return(calc_num)\n",
    "\n",
    "# second function\n",
    "# Here's some starter code to avoid confusion.\n",
    "# Functions can be passed around like any other object. \n",
    "def second_function(a,b,some_function):\n",
    "    some_function(a,b)\n",
    "\n",
    "second_function(3,5,first_function)"
   ]
  },
  {
   "cell_type": "code",
   "execution_count": null,
   "metadata": {},
   "outputs": [],
   "source": []
  },
  {
   "cell_type": "markdown",
   "metadata": {},
   "source": [
    "12. Create a function that prints prime number from 0 to 100. "
   ]
  },
  {
   "cell_type": "code",
   "execution_count": 128,
   "metadata": {},
   "outputs": [
    {
     "name": "stdout",
     "output_type": "stream",
     "text": [
      "0\n",
      "1\n",
      "2\n",
      "3\n",
      "5\n",
      "7\n",
      "11\n",
      "13\n",
      "17\n",
      "19\n",
      "23\n",
      "29\n",
      "31\n",
      "37\n",
      "41\n",
      "43\n",
      "47\n",
      "53\n",
      "59\n",
      "61\n",
      "67\n",
      "71\n",
      "73\n",
      "79\n",
      "83\n",
      "89\n",
      "97\n"
     ]
    }
   ],
   "source": [
    "def ck_prime ():\n",
    "    for x in range(0,100):\n",
    "        if (x==1 or x==2):\n",
    "            print(x)\n",
    "        else:\n",
    "            ok = False\n",
    "            for y in range(2,x):\n",
    "                if(x%y)==0:\n",
    "                    ok = True\n",
    "                    break\n",
    "            if not ok:  \n",
    "                print(x)\n",
    "                \n",
    "\n",
    "ck_prime()"
   ]
  },
  {
   "cell_type": "markdown",
   "metadata": {},
   "source": [
    "13. Now's your chance to show off. Create a function that does something that has not already been done in the homework. Get creative. "
   ]
  },
  {
   "cell_type": "code",
   "execution_count": 191,
   "metadata": {},
   "outputs": [
    {
     "name": "stdout",
     "output_type": "stream",
     "text": [
      "My average last night was 168.33333333333334\n",
      "My average last night was 165.0\n",
      "My average last night was 160.0\n"
     ]
    }
   ],
   "source": [
    "#my function calculates the average of games bowled on a night - set up to take\n",
    "#an unspecified number of games as input\n",
    "\n",
    "def my_avg(*game):\n",
    "    count = 0\n",
    "    total = 0\n",
    "    for a in game:\n",
    "        total = total + game[count]\n",
    "        count +=1\n",
    "    avg = total/count\n",
    "    \n",
    "    return(avg)\n",
    "\n",
    "print('My average last night was', my_avg(150,180,175))\n",
    "print('My average last night was', my_avg(150,180))\n",
    "print('My average last night was', my_avg(150,180,175,135))"
   ]
  },
  {
   "cell_type": "markdown",
   "metadata": {},
   "source": [
    "14. Add an attribute called `age` to the `__init__` method of the `Person` class.\n",
    "\n",
    "Create an instance of `Person()` and print the `age`."
   ]
  },
  {
   "cell_type": "code",
   "execution_count": 192,
   "metadata": {},
   "outputs": [
    {
     "name": "stdout",
     "output_type": "stream",
     "text": [
      "Fred is  59\n"
     ]
    }
   ],
   "source": [
    "class Person():\n",
    "    \n",
    "    def __init__(self, name, occupation, country, age):\n",
    "        self.name = name\n",
    "        self.occupation = occupation\n",
    "        self.country = country\n",
    "        self.age = age\n",
    "    \n",
    "new_per = Person('Fred', 'Electrician', 'US', 59)\n",
    "print(new_per.name, 'is ', new_per.age)"
   ]
  },
  {
   "cell_type": "markdown",
   "metadata": {},
   "source": [
    "15. Creat an instance of the class `Candy`. \n",
    "\n",
    "Add an attribute called `cost` on your instance. (Don't modify the class starter code.)\n",
    "\n",
    "Print the instance's `cost` attribute.\n",
    "\n",
    "Bonus(optional): Add a function of your choice to the instance. "
   ]
  },
  {
   "cell_type": "code",
   "execution_count": 14,
   "metadata": {},
   "outputs": [
    {
     "name": "stdout",
     "output_type": "stream",
     "text": [
      "My chocolate costs 1.25\n",
      "I can buy 8.0 candy bars with $10\n"
     ]
    },
    {
     "data": {
      "text/plain": [
       "10.0"
      ]
     },
     "execution_count": 14,
     "metadata": {},
     "output_type": "execute_result"
    }
   ],
   "source": [
    "class Candy():\n",
    "    \n",
    "    def __init__(self, kind='chocolate', brand= 'Nestle', caramel = False):\n",
    "        self.type = kind\n",
    "        self.brand = brand\n",
    "        self.caramel = caramel\n",
    "\n",
    "my_candy = Candy()\n",
    "setattr(my_candy,\"cost\",1.25)\n",
    "\n",
    "def can_func(a):\n",
    "    amt = 10\n",
    "    print('I can buy', amt//a, 'candy bars with $10')\n",
    "    return(amt//a * a)\n",
    "\n",
    "print('My', my_candy.type, 'costs', my_candy.cost)\n",
    "can_func(my_candy.cost)\n"
   ]
  },
  {
   "cell_type": "code",
   "execution_count": null,
   "metadata": {},
   "outputs": [],
   "source": []
  },
  {
   "cell_type": "markdown",
   "metadata": {},
   "source": [
    "16. Add an instance method to our class `Greet` that prints a greeting including `greeting` and the `name`. \n",
    "\n",
    "Example:\n",
    "\n",
    "`jen = Greet()`\n",
    "\n",
    "`jen.greet_method()` returns `\"Hello Jennifer\"`\n"
   ]
  },
  {
   "cell_type": "code",
   "execution_count": 2,
   "metadata": {},
   "outputs": [
    {
     "name": "stdout",
     "output_type": "stream",
     "text": [
      "Hello Jennifer\n"
     ]
    }
   ],
   "source": [
    "class Greet():\n",
    "    \n",
    "    def __init__(self, name='Jennifer', language='english', greeting=\"Hello\"):\n",
    "        \n",
    "        self.language = language\n",
    "        self.greeting = greeting\n",
    "        self.name = name\n",
    "        \n",
    "    def greet_method(self):\n",
    "        print(self.greeting,self.name)\n",
    "        \n",
    "jen = Greet()\n",
    "jen.greet_method()"
   ]
  },
  {
   "cell_type": "markdown",
   "metadata": {},
   "source": [
    "17. Add a line to the follwing code that will increment `employee_count` by 1 for **all** instances of `Employee`.\n",
    "\n",
    "The code should run each time an new instance of`Employee` is created. \n",
    "\n",
    "Hint: You don't need methods. Just a single expression will work. And it does NOT inlcude the word `self`. "
   ]
  },
  {
   "cell_type": "code",
   "execution_count": 151,
   "metadata": {},
   "outputs": [
    {
     "name": "stdout",
     "output_type": "stream",
     "text": [
      "1\n",
      "2\n"
     ]
    }
   ],
   "source": [
    "class Employee():\n",
    "    \n",
    "    # class variables. Applies to all instances of this class during creation.\n",
    "    yearly_bonus = 1.01 # not used anywhere in this example\n",
    "    \n",
    "    employee_count = 0 # This variable will change for all instances of the class.\n",
    "    \n",
    "       \n",
    "    def __init__(self,name, age, base_pay): # creates an instance of our object with unique attributes\n",
    "        \n",
    "        self.name = name\n",
    "        self.age = age\n",
    "        self.base_pay = base_pay\n",
    "        \n",
    "        Employee.employee_count += 1\n",
    "      \n",
    "        \n",
    "        \n",
    "emp1 = Employee('Matt', 32,40000)\n",
    "print(emp1.employee_count) # should be 1 if the __init__ method is working properly. \n",
    "\n",
    "emp2 = emp1 = Employee('Joe', 22,50000) # should be 2 if the __init__ method is working properly. \n",
    "print(emp2.employee_count)\n",
    "\n"
   ]
  },
  {
   "cell_type": "markdown",
   "metadata": {},
   "source": [
    "18 . Add a `static` method of your choice to the class below. \n",
    "\n",
    "Instaiate an object and call your method. \n",
    "\n",
    "What is a static method anyway? \n"
   ]
  },
  {
   "cell_type": "code",
   "execution_count": 152,
   "metadata": {},
   "outputs": [
    {
     "name": "stdout",
     "output_type": "stream",
     "text": [
      "Meryl Streep: This is my line...\n",
      "Starred in  Mamma Mia!\n",
      "Starred in  The Devil Wears Prada\n",
      "Starred in  Death Becomes Her\n",
      "Starred in  Out of Africa\n",
      "Starred in  Doubt\n"
     ]
    }
   ],
   "source": [
    "#a static method is a general utility method that performs a task in isolation - bound to the closs \n",
    "#and not the object of the class\n",
    "class actress():\n",
    "    def __init__(self, name = 'Meryl Streep'):\n",
    "        self.name = name\n",
    "        \n",
    "    def act(self, line):\n",
    "        print(f'{self.name}: {line}')\n",
    "        \n",
    "    @staticmethod\n",
    "    def movie_star(name):\n",
    "        movies = ['Mamma Mia!', 'The Devil Wears Prada', 'Death Becomes Her', 'Out of Africa', 'Doubt']\n",
    "        return movies\n",
    "    \n",
    "    def list_out(self):\n",
    "        movies = self.movie_star(self.name)\n",
    "        for movie in movies:\n",
    "            print('Starred in ', movie)\n",
    "            \n",
    "meryl = actress()\n",
    "meryl.act('This is my line...')\n",
    "meryl.list_out()"
   ]
  },
  {
   "cell_type": "code",
   "execution_count": null,
   "metadata": {},
   "outputs": [],
   "source": []
  },
  {
   "cell_type": "markdown",
   "metadata": {},
   "source": [
    "19. Create a `class` called Car that accepts 3 attributes (make, model and year). \n",
    "\n",
    "In the `__init__` method give your instance those three attributes. \n",
    "\n",
    "Instantiate (create) an object that is your dream car. \n",
    "\n",
    "Print the make of your dream car using the object attributes. \n",
    "\n",
    "Then call the dir() method on your new object. (See your attrs are now included!)"
   ]
  },
  {
   "cell_type": "code",
   "execution_count": 9,
   "metadata": {},
   "outputs": [
    {
     "name": "stdout",
     "output_type": "stream",
     "text": [
      "My dream car is a Mercedes-Benz\n"
     ]
    },
    {
     "data": {
      "text/plain": [
       "['__class__',\n",
       " '__delattr__',\n",
       " '__dict__',\n",
       " '__dir__',\n",
       " '__doc__',\n",
       " '__eq__',\n",
       " '__format__',\n",
       " '__ge__',\n",
       " '__getattribute__',\n",
       " '__gt__',\n",
       " '__hash__',\n",
       " '__init__',\n",
       " '__init_subclass__',\n",
       " '__le__',\n",
       " '__lt__',\n",
       " '__module__',\n",
       " '__ne__',\n",
       " '__new__',\n",
       " '__reduce__',\n",
       " '__reduce_ex__',\n",
       " '__repr__',\n",
       " '__setattr__',\n",
       " '__sizeof__',\n",
       " '__str__',\n",
       " '__subclasshook__',\n",
       " '__weakref__',\n",
       " 'make',\n",
       " 'model',\n",
       " 'year']"
      ]
     },
     "execution_count": 9,
     "metadata": {},
     "output_type": "execute_result"
    }
   ],
   "source": [
    "class Car():\n",
    "    def __init__(self, make, model, year):\n",
    "        self.make = make\n",
    "        self.model = model\n",
    "        self.year = year\n",
    "\n",
    "myCar = Car('Mercedes-Benz', 'S-class Cabriolet', 2022)\n",
    "\n",
    "print('My dream car is a', myCar.make)\n",
    "dir(myCar)\n",
    "        "
   ]
  },
  {
   "cell_type": "markdown",
   "metadata": {},
   "source": [
    "20. Create a class called `Dice` that accepts a single argument called `number_of_dice`. \n",
    "\n",
    "Create an instance method called `roll`. \n",
    "\n",
    "`roll` should randomly pick a number for each die when called and print the results as a list. \n",
    "\n",
    "Create an instance of `Dice`. Then call `roll()` on your instance.\n",
    "\n",
    "Hint: Inside your class create an empty list called `dice`."
   ]
  },
  {
   "cell_type": "code",
   "execution_count": 40,
   "metadata": {},
   "outputs": [
    {
     "name": "stdout",
     "output_type": "stream",
     "text": [
      "[4, 5, 3, 4, 4, 6]\n"
     ]
    }
   ],
   "source": [
    "# Helpful starter code\n",
    "from random import randrange\n",
    "\n",
    "#print(randrange(1,7)) # randomly generates a number between 1 and 6\n",
    "\n",
    "class Dice():\n",
    "    def __init__(self,number_of_dice):\n",
    "        self.number_of_dice = number_of_dice\n",
    "    dice = []\n",
    "    \n",
    "    def roll(self):\n",
    "        for i in range(1,(new_Dice.number_of_dice +1)):\n",
    "            roll_val = randrange(1,7)\n",
    "            Dice.dice.append(roll_val)\n",
    "\n",
    "new_Dice = Dice(6)\n",
    "\n",
    "new_Dice.roll()\n",
    "print(Dice.dice)"
   ]
  },
  {
   "cell_type": "code",
   "execution_count": null,
   "metadata": {},
   "outputs": [],
   "source": []
  },
  {
   "cell_type": "markdown",
   "metadata": {},
   "source": [
    "Bonus(optional):\n",
    "\n",
    "0. Create a class of your choice.\n",
    "1. Give it instance variables and class variables. \n",
    "2. Give it a classmethod. \n",
    "3. Give it a regular method (instance method).\n",
    "4. Give it a static method. \n",
    "\n",
    "Show how each works by printing an example. "
   ]
  },
  {
   "cell_type": "code",
   "execution_count": 50,
   "metadata": {},
   "outputs": [
    {
     "name": "stdout",
     "output_type": "stream",
     "text": [
      "Brutus\n",
      "Lily\n",
      "Julius\n"
     ]
    }
   ],
   "source": [
    "class Animal:\n",
    "    \n",
    "    pet_name = 'Brutus'\n",
    "    \n",
    "    def __init__(self, name, type_a, age):\n",
    "        self.name = name\n",
    "        self.type_a = type_a\n",
    "        self.age = age\n",
    "        \n",
    "    @classmethod\n",
    "    def change_pet_name(cls,name):\n",
    "        print(Animal.pet_name)\n",
    "        Animal.pet_name = name\n",
    "\n",
    "  \n",
    "    @staticmethod\n",
    "    def full_list(name):\n",
    "        f_name=['Brutus', 'Lily', 'Duke', 'Shadow', 'Ford', 'Gracie']\n",
    "        return f_name\n",
    "    \n",
    "    \n",
    "    def new_pet(self):\n",
    "        pass\n",
    "    \n",
    "girl_dog = Animal('Lily', 'dog', 3)\n",
    "print(girl_dog.name)\n",
    "\n",
    "Animal.change_pet_name('Julius')\n",
    "print(Animal.pet_name)\n",
    "\n",
    "Animal.new_pet\n"
   ]
  },
  {
   "cell_type": "code",
   "execution_count": null,
   "metadata": {},
   "outputs": [],
   "source": []
  }
 ],
 "metadata": {
  "kernelspec": {
   "display_name": "Python 3 (ipykernel)",
   "language": "python",
   "name": "python3"
  },
  "language_info": {
   "codemirror_mode": {
    "name": "ipython",
    "version": 3
   },
   "file_extension": ".py",
   "mimetype": "text/x-python",
   "name": "python",
   "nbconvert_exporter": "python",
   "pygments_lexer": "ipython3",
   "version": "3.9.7"
  }
 },
 "nbformat": 4,
 "nbformat_minor": 4
}
